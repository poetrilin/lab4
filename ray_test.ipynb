{
 "cells": [
  {
   "cell_type": "code",
   "execution_count": 21,
   "metadata": {},
   "outputs": [
    {
     "name": "stderr",
     "output_type": "stream",
     "text": [
      "2023-06-03 08:48:40,327\tINFO worker.py:1616 -- Started a local Ray instance. View the dashboard at \u001b[1m\u001b[32m127.0.0.1:8265 \u001b[39m\u001b[22m\n"
     ]
    },
    {
     "data": {
      "text/html": [
       "<div>\n",
       "    <div style=\"margin-left: 50px;display: flex;flex-direction: row;align-items: center\">\n",
       "        <h3 style=\"color: var(--jp-ui-font-color0)\">Ray</h3>\n",
       "        <svg version=\"1.1\" id=\"ray\" width=\"3em\" viewBox=\"0 0 144.5 144.6\" style=\"margin-left: 3em;margin-right: 3em\">\n",
       "            <g id=\"layer-1\">\n",
       "                <path fill=\"#00a2e9\" class=\"st0\" d=\"M97.3,77.2c-3.8-1.1-6.2,0.9-8.3,5.1c-3.5,6.8-9.9,9.9-17.4,9.6S58,88.1,54.8,81.2c-1.4-3-3-4-6.3-4.1\n",
       "                    c-5.6-0.1-9.9,0.1-13.1,6.4c-3.8,7.6-13.6,10.2-21.8,7.6C5.2,88.4-0.4,80.5,0,71.7c0.1-8.4,5.7-15.8,13.8-18.2\n",
       "                    c8.4-2.6,17.5,0.7,22.3,8c1.3,1.9,1.3,5.2,3.6,5.6c3.9,0.6,8,0.2,12,0.2c1.8,0,1.9-1.6,2.4-2.8c3.5-7.8,9.7-11.8,18-11.9\n",
       "                    c8.2-0.1,14.4,3.9,17.8,11.4c1.3,2.8,2.9,3.6,5.7,3.3c1-0.1,2,0.1,3,0c2.8-0.5,6.4,1.7,8.1-2.7s-2.3-5.5-4.1-7.5\n",
       "                    c-5.1-5.7-10.9-10.8-16.1-16.3C84,38,81.9,37.1,78,38.3C66.7,42,56.2,35.7,53,24.1C50.3,14,57.3,2.8,67.7,0.5\n",
       "                    C78.4-2,89,4.7,91.5,15.3c0.1,0.3,0.1,0.5,0.2,0.8c0.7,3.4,0.7,6.9-0.8,9.8c-1.7,3.2-0.8,5,1.5,7.2c6.7,6.5,13.3,13,19.8,19.7\n",
       "                    c1.8,1.8,3,2.1,5.5,1.2c9.1-3.4,17.9-0.6,23.4,7c4.8,6.9,4.6,16.1-0.4,22.9c-5.4,7.2-14.2,9.9-23.1,6.5c-2.3-0.9-3.5-0.6-5.1,1.1\n",
       "                    c-6.7,6.9-13.6,13.7-20.5,20.4c-1.8,1.8-2.5,3.2-1.4,5.9c3.5,8.7,0.3,18.6-7.7,23.6c-7.9,5-18.2,3.8-24.8-2.9\n",
       "                    c-6.4-6.4-7.4-16.2-2.5-24.3c4.9-7.8,14.5-11,23.1-7.8c3,1.1,4.7,0.5,6.9-1.7C91.7,98.4,98,92.3,104.2,86c1.6-1.6,4.1-2.7,2.6-6.2\n",
       "                    c-1.4-3.3-3.8-2.5-6.2-2.6C99.8,77.2,98.9,77.2,97.3,77.2z M72.1,29.7c5.5,0.1,9.9-4.3,10-9.8c0-0.1,0-0.2,0-0.3\n",
       "                    C81.8,14,77,9.8,71.5,10.2c-5,0.3-9,4.2-9.3,9.2c-0.2,5.5,4,10.1,9.5,10.3C71.8,29.7,72,29.7,72.1,29.7z M72.3,62.3\n",
       "                    c-5.4-0.1-9.9,4.2-10.1,9.7c0,0.2,0,0.3,0,0.5c0.2,5.4,4.5,9.7,9.9,10c5.1,0.1,9.9-4.7,10.1-9.8c0.2-5.5-4-10-9.5-10.3\n",
       "                    C72.6,62.3,72.4,62.3,72.3,62.3z M115,72.5c0.1,5.4,4.5,9.7,9.8,9.9c5.6-0.2,10-4.8,10-10.4c-0.2-5.4-4.6-9.7-10-9.7\n",
       "                    c-5.3-0.1-9.8,4.2-9.9,9.5C115,72.1,115,72.3,115,72.5z M19.5,62.3c-5.4,0.1-9.8,4.4-10,9.8c-0.1,5.1,5.2,10.4,10.2,10.3\n",
       "                    c5.6-0.2,10-4.9,9.8-10.5c-0.1-5.4-4.5-9.7-9.9-9.6C19.6,62.3,19.5,62.3,19.5,62.3z M71.8,134.6c5.9,0.2,10.3-3.9,10.4-9.6\n",
       "                    c0.5-5.5-3.6-10.4-9.1-10.8c-5.5-0.5-10.4,3.6-10.8,9.1c0,0.5,0,0.9,0,1.4c-0.2,5.3,4,9.8,9.3,10\n",
       "                    C71.6,134.6,71.7,134.6,71.8,134.6z\"/>\n",
       "            </g>\n",
       "        </svg>\n",
       "        <table>\n",
       "            <tr>\n",
       "                <td style=\"text-align: left\"><b>Python version:</b></td>\n",
       "                <td style=\"text-align: left\"><b>3.9.13</b></td>\n",
       "            </tr>\n",
       "            <tr>\n",
       "                <td style=\"text-align: left\"><b>Ray version:</b></td>\n",
       "                <td style=\"text-align: left\"><b> 2.4.0</b></td>\n",
       "            </tr>\n",
       "            <tr>\n",
       "    <td style=\"text-align: left\"><b>Dashboard:</b></td>\n",
       "    <td style=\"text-align: left\"><b><a href=\"http://127.0.0.1:8265\" target=\"_blank\">http://127.0.0.1:8265</a></b></td>\n",
       "</tr>\n",
       "\n",
       "        </table>\n",
       "    </div>\n",
       "</div>\n"
      ],
      "text/plain": [
       "RayContext(dashboard_url='127.0.0.1:8265', python_version='3.9.13', ray_version='2.4.0', ray_commit='4479f66d4db967d3c9dd0af2572061276ba926ba', address_info={'node_ip_address': '127.0.0.1', 'raylet_ip_address': '127.0.0.1', 'redis_address': None, 'object_store_address': 'tcp://127.0.0.1:64960', 'raylet_socket_name': 'tcp://127.0.0.1:61690', 'webui_url': '127.0.0.1:8265', 'session_dir': 'C:\\\\Users\\\\mlzc1\\\\AppData\\\\Local\\\\Temp\\\\ray\\\\session_2023-06-03_08-48-38_494744_15508', 'metrics_export_port': 61350, 'gcs_address': '127.0.0.1:63863', 'address': '127.0.0.1:63863', 'dashboard_agent_listen_port': 52365, 'node_id': 'f4b581ab46e5f79cf8a5d9f18e7d4ec018eb74c5ce5c30058a1b6631'})"
      ]
     },
     "execution_count": 21,
     "metadata": {},
     "output_type": "execute_result"
    }
   ],
   "source": [
    "import ray\n",
    "\n",
    "ray.shutdown()\n",
    "ray.init()\n"
   ]
  },
  {
   "attachments": {},
   "cell_type": "markdown",
   "metadata": {},
   "source": [
    "Ray 允许您在集群中将函数作为远程任务运行。使用修饰@ray.remote"
   ]
  },
  {
   "cell_type": "code",
   "execution_count": 9,
   "metadata": {},
   "outputs": [
    {
     "name": "stdout",
     "output_type": "stream",
     "text": [
      "[0, 1, 4, 9]\n"
     ]
    }
   ],
   "source": []
  },
  {
   "attachments": {},
   "cell_type": "markdown",
   "metadata": {},
   "source": [
    "在使用@ray.remote标记函数后，该函数的执行将具有以下影响：\n",
    "\n",
    "- 远程调用：可以在集群中的任何节点上调用该函数，而不需要在本地（即调用方）执行该函数。这使得分布式计算应用程序更易于编写和部署。\n",
    "\n",
    "- 并行执行：由于该函数在集群中的某个节点上执行，因此可以并行地执行多个该函数的实例，以提高计算效率。\n",
    "\n",
    "- 数据传输：由于远程函数的执行发生在不同的节点上，因此需要将数据从调用方节点传输到执行节点，在函数执行完成后再将结果返回到调用方节点。因此，数据传输的成本和延迟可能会对执行时间产生影响。\n",
    "\n",
    "需要注意的是，将函数标记为远程函数并不一定总是对性能有益，因为远程调用和数据传输都会增加计算的开销。因此，需要根据具体应用场景和问题来考虑是否需要使用远程函数。"
   ]
  },
  {
   "attachments": {},
   "cell_type": "markdown",
   "metadata": {},
   "source": [
    "### 关键概念\n",
    "- Tasks：Ray 允许任意函数在单独的 Python worker 上异步执行。这些异步 Ray 函数称为“Tasks”。Ray 使Tasks能够根据 CPU、GPU 和自定义资源指定其资源需求。集群调度程序使用这些资源请求在集群中分配Tasks以并行执行。\n",
    "- Actor :将 Ray API 从函数（任务）扩展到类。参与者本质上是一个有状态的工作者（或服务）。当一个新的 actor 被实例化时，一个新的 worker 被创建，并且 actor 的方法被安排在那个特定的 worker 上并且可以访问和改变那个 worker 的状态。与任务一样，参与者支持 CPU、GPU 和自定义资源要求。\n",
    "- Objects： 在 Ray 中，任务和参与者在Objects上创建和计算。我们将这些Objects称为remote objects，因为它们可以存储在 Ray 集群中的任何位置，我们使用Objects引用来引用它们。远程Objects缓存在 Ray 的分布式共享内存 Objects存储中，集群中每个节点都有一个Objects存储。在集群设置中，远程Objects可以存在于一个或多个节点上，而与持有Objects ref(s) 的人无关。\n",
    "- Placement Groups: Placement Groups允许用户跨多个节点原子地保留资源组（即，组调度）。然后，它们可用于安排 Ray 任务和 actors，这些任务和 actors 尽可能靠近本地 (PACK) 或分散 (SPREAD)。Placement Groups一般用于帮派调度actor，也有辅助任务。"
   ]
  },
  {
   "attachments": {},
   "cell_type": "markdown",
   "metadata": {},
   "source": [
    "## π 的蒙特卡洛估计\n",
    "\n",
    "原理:该方法通过在 2x2 正方形内随机采样点来工作。我们可以使用以原点为中心的单位圆内包含的点的比例来估计圆的面积与正方形的面积之比。鉴于我们知道真实的比率是 π/4，我们可以将我们的估计比率乘以 4 来近似 π 的值。我们为计算此近似值而采样的点越多，该值就越接近 π 的真实值。"
   ]
  },
  {
   "cell_type": "code",
   "execution_count": 22,
   "metadata": {},
   "outputs": [],
   "source": [
    "import math\n",
    "import time\n",
    "import random\n",
    "import psutil # memory usage"
   ]
  },
  {
   "cell_type": "code",
   "execution_count": 23,
   "metadata": {},
   "outputs": [],
   "source": [
    "#定义 Progress Actor\n",
    "@ray.remote\n",
    "class ProgressActor:\n",
    "    def __init__(self, total_num_samples: int):\n",
    "        self.total_num_samples = total_num_samples\n",
    "        self.num_samples_completed_per_task = {}\n",
    "\n",
    "    def report_progress(self, task_id: int, num_samples_completed: int) -> None:\n",
    "        self.num_samples_completed_per_task[task_id] = num_samples_completed\n",
    "\n",
    "    def get_progress(self) -> float:\n",
    "        return (\n",
    "            sum(self.num_samples_completed_per_task.values()) / self.total_num_samples\n",
    "        )\n",
    "    \n",
    "#定义 Worker Actor\n",
    "@ray.remote\n",
    "def sampling_task(num_samples: int, task_id: int,\n",
    "                  progress_actor: ray.actor.ActorHandle) -> int:\n",
    "    num_inside = 0\n",
    "    for i in range(num_samples):\n",
    "        x, y = random.uniform(-1, 1), random.uniform(-1, 1)\n",
    "        if math.hypot(x, y) <= 1:\n",
    "            num_inside += 1\n",
    "\n",
    "        # Report progress every 1 million samples.\n",
    "        if (i + 1) % 1_000_000 == 0:\n",
    "            # This is async.\n",
    "            progress_actor.report_progress.remote(task_id, i + 1)\n",
    "\n",
    "    # Report the final progress.\n",
    "    progress_actor.report_progress.remote(task_id, num_samples)\n",
    "    return num_inside\n",
    "\n"
   ]
  },
  {
   "cell_type": "code",
   "execution_count": 28,
   "metadata": {},
   "outputs": [
    {
     "name": "stdout",
     "output_type": "stream",
     "text": [
      "Estimated value of π is: 3.1418251\n",
      "NUM_SAMPLING_TASKS = 16,NUM_SAMPLES_PER_TASK = 5000000 时,Average task execution time: 0.45083485543727875 seconds\n",
      "Throughput: 11090535.569061857 samples/second\n",
      "Memory usage: 136962048 bytes\n",
      "Relative Error: 7.398999037683116e-05\n"
     ]
    }
   ],
   "source": [
    "#初始部署参数\n",
    "#创建进度 Actor\n",
    "# Change this to match your cluster scale.\n",
    "NUM_SAMPLING_TASKS = 16\n",
    "NUM_SAMPLES_PER_TASK = 5_000_000\n",
    "TOTAL_NUM_SAMPLES = NUM_SAMPLING_TASKS * NUM_SAMPLES_PER_TASK\n",
    "\n",
    "# Create the progress actor.\n",
    "progress_actor = ProgressActor.remote(TOTAL_NUM_SAMPLES)\n",
    "\n",
    "# 创建并执行所有采样任务的时间戳\n",
    "start_time = time.time()\n",
    "\n",
    "# Create and execute all sampling tasks in parallel.\n",
    "results = [\n",
    "    sampling_task.remote(NUM_SAMPLES_PER_TASK, i, progress_actor)\n",
    "    for i in range(NUM_SAMPLING_TASKS)\n",
    "]\n",
    "\n",
    "#调用 Progress Actor\n",
    "# Query progress periodically.\n",
    "# while True:\n",
    "#     progress = ray.get(progress_actor.get_progress.remote())\n",
    "#     print(f\"Progress: {int(progress * 100)}%\")\n",
    "\n",
    "#     if progress == 1:\n",
    "#         break\n",
    "\n",
    "#     time.sleep(1)\n",
    "\n",
    "\n",
    "# 最后,从远程采样任务中获取圆内的样本数并计算 π。\n",
    "\n",
    "# Get all the sampling tasks results.\n",
    "total_num_inside = sum(ray.get(results))\n",
    "estimate_pi = (total_num_inside * 4) / TOTAL_NUM_SAMPLES\n",
    "print(f\"Estimated value of π is: {estimate_pi}\")\n",
    "\n",
    "# Print the total execution time.\n",
    "ray.get(results)\n",
    "\n",
    "# 计算平均任务执行时间\n",
    "execution_time = time.time() - start_time\n",
    "average_execution_time = execution_time / NUM_SAMPLING_TASKS\n",
    "\n",
    "# 计算吞吐量\n",
    "throughput = TOTAL_NUM_SAMPLES / execution_time\n",
    "\n",
    "print(f\"NUM_SAMPLING_TASKS = {NUM_SAMPLING_TASKS},NUM_SAMPLES_PER_TASK = {NUM_SAMPLES_PER_TASK} 时,\")\n",
    "print(\"Average task execution time: {average_execution_time} seconds\")\n",
    "print(f\"Throughput: {throughput} samples/second\")\n",
    "\n",
    "# 获取当前进程的内存使用情况\n",
    "memory_usage = psutil.Process().memory_info().rss\n",
    "print(f\"Memory usage: {memory_usage} bytes\")\n",
    "\n",
    "\n",
    "# 计算估计值的相对误差\n",
    "true_pi = math.pi\n",
    "relative_error = abs((true_pi - estimate_pi) / true_pi)\n",
    "print(f\"Relative Error: {relative_error}\")"
   ]
  },
  {
   "cell_type": "code",
   "execution_count": null,
   "metadata": {},
   "outputs": [],
   "source": []
  }
 ],
 "metadata": {
  "kernelspec": {
   "display_name": "ray_test",
   "language": "python",
   "name": "python3"
  },
  "language_info": {
   "codemirror_mode": {
    "name": "ipython",
    "version": 3
   },
   "file_extension": ".py",
   "mimetype": "text/x-python",
   "name": "python",
   "nbconvert_exporter": "python",
   "pygments_lexer": "ipython3",
   "version": "3.9.13"
  },
  "orig_nbformat": 4
 },
 "nbformat": 4,
 "nbformat_minor": 2
}
