{
 "cells": [
  {
   "cell_type": "code",
   "execution_count": 10,
   "metadata": {},
   "outputs": [
    {
     "ename": "RuntimeError",
     "evalue": "Maybe you called ray.init twice by accident? This error can be suppressed by passing in 'ignore_reinit_error=True' or by calling 'ray.shutdown()' prior to 'ray.init()'.",
     "output_type": "error",
     "traceback": [
      "\u001b[1;31m---------------------------------------------------------------------------\u001b[0m",
      "\u001b[1;31mRuntimeError\u001b[0m                              Traceback (most recent call last)",
      "Cell \u001b[1;32mIn[10], line 6\u001b[0m\n\u001b[0;32m      4\u001b[0m \u001b[39mimport\u001b[39;00m \u001b[39mrandom\u001b[39;00m\n\u001b[0;32m      5\u001b[0m \u001b[39m#ray.shutdown()\u001b[39;00m\n\u001b[1;32m----> 6\u001b[0m ray\u001b[39m.\u001b[39;49minit()\n",
      "File \u001b[1;32md:\\code\\RAY\\ray_test\\lib\\site-packages\\ray\\_private\\client_mode_hook.py:105\u001b[0m, in \u001b[0;36mclient_mode_hook.<locals>.wrapper\u001b[1;34m(*args, **kwargs)\u001b[0m\n\u001b[0;32m    103\u001b[0m     \u001b[39mif\u001b[39;00m func\u001b[39m.\u001b[39m\u001b[39m__name__\u001b[39m \u001b[39m!=\u001b[39m \u001b[39m\"\u001b[39m\u001b[39minit\u001b[39m\u001b[39m\"\u001b[39m \u001b[39mor\u001b[39;00m is_client_mode_enabled_by_default:\n\u001b[0;32m    104\u001b[0m         \u001b[39mreturn\u001b[39;00m \u001b[39mgetattr\u001b[39m(ray, func\u001b[39m.\u001b[39m\u001b[39m__name__\u001b[39m)(\u001b[39m*\u001b[39margs, \u001b[39m*\u001b[39m\u001b[39m*\u001b[39mkwargs)\n\u001b[1;32m--> 105\u001b[0m \u001b[39mreturn\u001b[39;00m func(\u001b[39m*\u001b[39margs, \u001b[39m*\u001b[39m\u001b[39m*\u001b[39mkwargs)\n",
      "File \u001b[1;32md:\\code\\RAY\\ray_test\\lib\\site-packages\\ray\\_private\\worker.py:1458\u001b[0m, in \u001b[0;36minit\u001b[1;34m(address, num_cpus, num_gpus, resources, object_store_memory, local_mode, ignore_reinit_error, include_dashboard, dashboard_host, dashboard_port, job_config, configure_logging, logging_level, logging_format, log_to_driver, namespace, runtime_env, storage, **kwargs)\u001b[0m\n\u001b[0;32m   1456\u001b[0m         \u001b[39mreturn\u001b[39;00m RayContext(\u001b[39mdict\u001b[39m(_global_node\u001b[39m.\u001b[39maddress_info, node_id\u001b[39m=\u001b[39mnode_id\u001b[39m.\u001b[39mhex()))\n\u001b[0;32m   1457\u001b[0m     \u001b[39melse\u001b[39;00m:\n\u001b[1;32m-> 1458\u001b[0m         \u001b[39mraise\u001b[39;00m \u001b[39mRuntimeError\u001b[39;00m(\n\u001b[0;32m   1459\u001b[0m             \u001b[39m\"\u001b[39m\u001b[39mMaybe you called ray.init twice by accident? \u001b[39m\u001b[39m\"\u001b[39m\n\u001b[0;32m   1460\u001b[0m             \u001b[39m\"\u001b[39m\u001b[39mThis error can be suppressed by passing in \u001b[39m\u001b[39m\"\u001b[39m\n\u001b[0;32m   1461\u001b[0m             \u001b[39m\"\u001b[39m\u001b[39m'\u001b[39m\u001b[39mignore_reinit_error=True\u001b[39m\u001b[39m'\u001b[39m\u001b[39m or by calling \u001b[39m\u001b[39m\"\u001b[39m\n\u001b[0;32m   1462\u001b[0m             \u001b[39m\"\u001b[39m\u001b[39m'\u001b[39m\u001b[39mray.shutdown()\u001b[39m\u001b[39m'\u001b[39m\u001b[39m prior to \u001b[39m\u001b[39m'\u001b[39m\u001b[39mray.init()\u001b[39m\u001b[39m'\u001b[39m\u001b[39m.\u001b[39m\u001b[39m\"\u001b[39m\n\u001b[0;32m   1463\u001b[0m         )\n\u001b[0;32m   1465\u001b[0m _system_config \u001b[39m=\u001b[39m _system_config \u001b[39mor\u001b[39;00m {}\n\u001b[0;32m   1466\u001b[0m \u001b[39mif\u001b[39;00m \u001b[39mnot\u001b[39;00m \u001b[39misinstance\u001b[39m(_system_config, \u001b[39mdict\u001b[39m):\n",
      "\u001b[1;31mRuntimeError\u001b[0m: Maybe you called ray.init twice by accident? This error can be suppressed by passing in 'ignore_reinit_error=True' or by calling 'ray.shutdown()' prior to 'ray.init()'."
     ]
    }
   ],
   "source": [
    "import ray\n",
    "\n",
    "#ray.shutdown()\n",
    "ray.init()\n"
   ]
  },
  {
   "attachments": {},
   "cell_type": "markdown",
   "metadata": {},
   "source": [
    "Ray 允许您在集群中将函数作为远程任务运行。使用修饰@ray.remote"
   ]
  },
  {
   "cell_type": "code",
   "execution_count": 9,
   "metadata": {},
   "outputs": [
    {
     "name": "stdout",
     "output_type": "stream",
     "text": [
      "[0, 1, 4, 9]\n"
     ]
    }
   ],
   "source": [
    "# Define the Counter actor.\n",
    "@ray.remote\n",
    "class Counter:\n",
    "    def __init__(self):\n",
    "        self.i = 0\n",
    "\n",
    "    def get(self):\n",
    "        return self.i\n",
    "\n",
    "    def incr(self, value):\n",
    "        self.i += value\n",
    "# Create a Counter actor.\n",
    "c = Counter.remote()\n",
    "\n",
    "# Submit calls to the actor. These calls run asynchronously but in\n",
    "# submission order on the remote actor process.\n",
    "for _ in range(10):\n",
    "    c.incr.remote(1)\n",
    "\n",
    "# Retrieve final actor state.\n",
    "print(ray.get(c.get.remote()))\n",
    "# -> 10"
   ]
  },
  {
   "attachments": {},
   "cell_type": "markdown",
   "metadata": {},
   "source": [
    "在使用@ray.remote标记函数后，该函数的执行将具有以下影响：\n",
    "\n",
    "- 远程调用：可以在集群中的任何节点上调用该函数，而不需要在本地（即调用方）执行该函数。这使得分布式计算应用程序更易于编写和部署。\n",
    "\n",
    "- 并行执行：由于该函数在集群中的某个节点上执行，因此可以并行地执行多个该函数的实例，以提高计算效率。\n",
    "\n",
    "- 数据传输：由于远程函数的执行发生在不同的节点上，因此需要将数据从调用方节点传输到执行节点，在函数执行完成后再将结果返回到调用方节点。因此，数据传输的成本和延迟可能会对执行时间产生影响。\n",
    "\n",
    "需要注意的是，将函数标记为远程函数并不一定总是对性能有益，因为远程调用和数据传输都会增加计算的开销。因此，需要根据具体应用场景和问题来考虑是否需要使用远程函数。"
   ]
  },
  {
   "attachments": {},
   "cell_type": "markdown",
   "metadata": {},
   "source": [
    "### 关键概念\n",
    "- Tasks：Ray 允许任意函数在单独的 Python worker 上异步执行。这些异步 Ray 函数称为“Tasks”。Ray 使Tasks能够根据 CPU、GPU 和自定义资源指定其资源需求。集群调度程序使用这些资源请求在集群中分配Tasks以并行执行。\n",
    "- Actor :将 Ray API 从函数（任务）扩展到类。参与者本质上是一个有状态的工作者（或服务）。当一个新的 actor 被实例化时，一个新的 worker 被创建，并且 actor 的方法被安排在那个特定的 worker 上并且可以访问和改变那个 worker 的状态。与任务一样，参与者支持 CPU、GPU 和自定义资源要求。\n",
    "- Objects： 在 Ray 中，任务和参与者在Objects上创建和计算。我们将这些Objects称为remote objects，因为它们可以存储在 Ray 集群中的任何位置，我们使用Objects引用来引用它们。远程Objects缓存在 Ray 的分布式共享内存 Objects存储中，集群中每个节点都有一个Objects存储。在集群设置中，远程Objects可以存在于一个或多个节点上，而与持有Objects ref(s) 的人无关。\n",
    "- Placement Groups: Placement Groups允许用户跨多个节点原子地保留资源组（即，组调度）。然后，它们可用于安排 Ray 任务和 actors，这些任务和 actors 尽可能靠近本地 (PACK) 或分散 (SPREAD)。Placement Groups一般用于帮派调度actor，也有辅助任务。"
   ]
  },
  {
   "attachments": {},
   "cell_type": "markdown",
   "metadata": {},
   "source": [
    "## π 的蒙特卡洛估计\n",
    "\n",
    "原理:该方法通过在 2x2 正方形内随机采样点来工作。我们可以使用以原点为中心的单位圆内包含的点的比例来估计圆的面积与正方形的面积之比。鉴于我们知道真实的比率是 π/4，我们可以将我们的估计比率乘以 4 来近似 π 的值。我们为计算此近似值而采样的点越多，该值就越接近 π 的真实值。"
   ]
  },
  {
   "cell_type": "code",
   "execution_count": 11,
   "metadata": {},
   "outputs": [],
   "source": [
    "import math\n",
    "import time\n",
    "import random"
   ]
  },
  {
   "cell_type": "code",
   "execution_count": 12,
   "metadata": {},
   "outputs": [
    {
     "name": "stdout",
     "output_type": "stream",
     "text": [
      "Progress: 0%\n",
      "Progress: 17%\n",
      "Progress: 20%\n",
      "Progress: 30%\n",
      "Progress: 34%\n",
      "Progress: 40%\n",
      "Progress: 50%\n",
      "Progress: 52%\n",
      "Progress: 60%\n",
      "Progress: 70%\n",
      "Progress: 71%\n",
      "Progress: 80%\n",
      "Progress: 88%\n",
      "Progress: 91%\n",
      "Progress: 100%\n",
      "Estimated value of π is: 3.14156592\n"
     ]
    }
   ],
   "source": [
    "#定义 Progress Actor\n",
    "@ray.remote\n",
    "class ProgressActor:\n",
    "    def __init__(self, total_num_samples: int):\n",
    "        self.total_num_samples = total_num_samples\n",
    "        self.num_samples_completed_per_task = {}\n",
    "\n",
    "    def report_progress(self, task_id: int, num_samples_completed: int) -> None:\n",
    "        self.num_samples_completed_per_task[task_id] = num_samples_completed\n",
    "\n",
    "    def get_progress(self) -> float:\n",
    "        return (\n",
    "            sum(self.num_samples_completed_per_task.values()) / self.total_num_samples\n",
    "        )\n",
    "    \n",
    "#定义 Worker Actor\n",
    "@ray.remote\n",
    "def sampling_task(num_samples: int, task_id: int,\n",
    "                  progress_actor: ray.actor.ActorHandle) -> int:\n",
    "    num_inside = 0\n",
    "    for i in range(num_samples):\n",
    "        x, y = random.uniform(-1, 1), random.uniform(-1, 1)\n",
    "        if math.hypot(x, y) <= 1:\n",
    "            num_inside += 1\n",
    "\n",
    "        # Report progress every 1 million samples.\n",
    "        if (i + 1) % 1_000_000 == 0:\n",
    "            # This is async.\n",
    "            progress_actor.report_progress.remote(task_id, i + 1)\n",
    "\n",
    "    # Report the final progress.\n",
    "    progress_actor.report_progress.remote(task_id, num_samples)\n",
    "    return num_inside\n",
    "\n",
    "#创建进度 Actor\n",
    "# Change this to match your cluster scale.\n",
    "NUM_SAMPLING_TASKS = 10\n",
    "NUM_SAMPLES_PER_TASK = 10_000_000\n",
    "TOTAL_NUM_SAMPLES = NUM_SAMPLING_TASKS * NUM_SAMPLES_PER_TASK\n",
    "\n",
    "# Create the progress actor.\n",
    "progress_actor = ProgressActor.remote(TOTAL_NUM_SAMPLES)\n",
    "\n",
    "\n",
    "# Create and execute all sampling tasks in parallel.\n",
    "results = [\n",
    "    sampling_task.remote(NUM_SAMPLES_PER_TASK, i, progress_actor)\n",
    "    for i in range(NUM_SAMPLING_TASKS)\n",
    "]\n",
    "\n",
    "#调用 Progress Actor\n",
    "# Query progress periodically.\n",
    "while True:\n",
    "    progress = ray.get(progress_actor.get_progress.remote())\n",
    "    print(f\"Progress: {int(progress * 100)}%\")\n",
    "\n",
    "    if progress == 1:\n",
    "        break\n",
    "\n",
    "    time.sleep(1)\n",
    "\n",
    "\n",
    "# 最后，我们从远程采样任务中获取圆内的样本数并计算 π。\n",
    "\n",
    "# Get all the sampling tasks results.\n",
    "total_num_inside = sum(ray.get(results))\n",
    "pi = (total_num_inside * 4) / TOTAL_NUM_SAMPLES\n",
    "print(f\"Estimated value of π is: {pi}\")"
   ]
  },
  {
   "cell_type": "code",
   "execution_count": null,
   "metadata": {},
   "outputs": [],
   "source": []
  }
 ],
 "metadata": {
  "kernelspec": {
   "display_name": "ray_test",
   "language": "python",
   "name": "python3"
  },
  "language_info": {
   "codemirror_mode": {
    "name": "ipython",
    "version": 3
   },
   "file_extension": ".py",
   "mimetype": "text/x-python",
   "name": "python",
   "nbconvert_exporter": "python",
   "pygments_lexer": "ipython3",
   "version": "3.9.13"
  },
  "orig_nbformat": 4
 },
 "nbformat": 4,
 "nbformat_minor": 2
}
